{
 "cells": [
  {
   "cell_type": "markdown",
   "metadata": {
    "id": "uLPOr-8b1WvD"
   },
   "source": [
    "<a href=\"https://www.inove.com.ar\"><img src=\"https://raw.githubusercontent.com/InoveAlumnos/dataset_analytics_python/master/images/PA%20Banner.png\" width=\"1000\" align=\"center\"></a>\n",
    "\n",
    "\n",
    "# Regresión\n",
    "\n",
    "Programa creado para mostrar ejemplos prácticos de los visto durante la clase<br>\n",
    "v1.1"
   ]
  },
  {
   "cell_type": "markdown",
   "metadata": {
    "id": "SBftKJxBVQ-9"
   },
   "source": [
    "# Machine Learning supervisado - Regresión"
   ]
  },
  {
   "cell_type": "markdown",
   "metadata": {
    "id": "EkFATpYfVUzT"
   },
   "source": [
    "## 1 - Datos"
   ]
  },
  {
   "cell_type": "code",
   "execution_count": 1,
   "metadata": {
    "id": "yzvdYxQKO5uL"
   },
   "outputs": [],
   "source": [
    "import numpy as np\n",
    "import pandas as pd\n",
    "import matplotlib.pyplot as plt\n",
    "import seaborn as sns"
   ]
  },
  {
   "cell_type": "code",
   "execution_count": 2,
   "metadata": {
    "colab": {
     "base_uri": "https://localhost:8080/",
     "height": 266
    },
    "executionInfo": {
     "elapsed": 989,
     "status": "ok",
     "timestamp": 1603761821720,
     "user": {
      "displayName": "Hernán Contigiani",
      "photoUrl": "https://lh3.googleusercontent.com/a-/AOh14Ggvg04lTitIUU72BS6D299tXlZG8qalV594KkKRfg=s64",
      "userId": "01142101934719343059"
     },
     "user_tz": 180
    },
    "id": "ZxHiXADRMv9b",
    "outputId": "1505e816-12ed-4640-b29b-68b4b2f77be8"
   },
   "outputs": [
    {
     "data": {
      "text/html": [
       "<div>\n",
       "<style scoped>\n",
       "    .dataframe tbody tr th:only-of-type {\n",
       "        vertical-align: middle;\n",
       "    }\n",
       "\n",
       "    .dataframe tbody tr th {\n",
       "        vertical-align: top;\n",
       "    }\n",
       "\n",
       "    .dataframe thead th {\n",
       "        text-align: right;\n",
       "    }\n",
       "</style>\n",
       "<table border=\"1\" class=\"dataframe\">\n",
       "  <thead>\n",
       "    <tr style=\"text-align: right;\">\n",
       "      <th></th>\n",
       "      <th>x</th>\n",
       "      <th>y</th>\n",
       "    </tr>\n",
       "  </thead>\n",
       "  <tbody>\n",
       "    <tr>\n",
       "      <th>0</th>\n",
       "      <td>1</td>\n",
       "      <td>5</td>\n",
       "    </tr>\n",
       "    <tr>\n",
       "      <th>1</th>\n",
       "      <td>5</td>\n",
       "      <td>12</td>\n",
       "    </tr>\n",
       "    <tr>\n",
       "      <th>2</th>\n",
       "      <td>10</td>\n",
       "      <td>11</td>\n",
       "    </tr>\n",
       "    <tr>\n",
       "      <th>3</th>\n",
       "      <td>15</td>\n",
       "      <td>23</td>\n",
       "    </tr>\n",
       "    <tr>\n",
       "      <th>4</th>\n",
       "      <td>20</td>\n",
       "      <td>19</td>\n",
       "    </tr>\n",
       "    <tr>\n",
       "      <th>5</th>\n",
       "      <td>25</td>\n",
       "      <td>28</td>\n",
       "    </tr>\n",
       "    <tr>\n",
       "      <th>6</th>\n",
       "      <td>30</td>\n",
       "      <td>36</td>\n",
       "    </tr>\n",
       "  </tbody>\n",
       "</table>\n",
       "</div>"
      ],
      "text/plain": [
       "    x   y\n",
       "0   1   5\n",
       "1   5  12\n",
       "2  10  11\n",
       "3  15  23\n",
       "4  20  19\n",
       "5  25  28\n",
       "6  30  36"
      ]
     },
     "execution_count": 2,
     "metadata": {},
     "output_type": "execute_result"
    }
   ],
   "source": [
    "df = pd.DataFrame({\n",
    "      \"x\": [1, 5, 10, 15, 20, 25, 30],\n",
    "      \"y\": [5, 12, 11, 23, 19, 28, 36]}\n",
    "      )\n",
    "df"
   ]
  },
  {
   "cell_type": "code",
   "execution_count": 3,
   "metadata": {
    "id": "tEPJcWe1sqEO"
   },
   "outputs": [],
   "source": [
    "# Separar los datos \"X\" e y\n",
    "X = df['x'].values\n",
    "y = df['y'].values"
   ]
  },
  {
   "cell_type": "code",
   "execution_count": 4,
   "metadata": {
    "colab": {
     "base_uri": "https://localhost:8080/",
     "height": 265
    },
    "executionInfo": {
     "elapsed": 1287,
     "status": "ok",
     "timestamp": 1603761822028,
     "user": {
      "displayName": "Hernán Contigiani",
      "photoUrl": "https://lh3.googleusercontent.com/a-/AOh14Ggvg04lTitIUU72BS6D299tXlZG8qalV594KkKRfg=s64",
      "userId": "01142101934719343059"
     },
     "user_tz": 180
    },
    "id": "2L8b3X559_1d",
    "outputId": "8222764f-6849-4686-babf-8f8bbd3887c7"
   },
   "outputs": [
    {
     "data": {
      "image/png": "[encoded data removed]",
      "text/plain": [
       "<Figure size 432x288 with 1 Axes>"
      ]
     },
     "metadata": {
      "needs_background": "light"
     },
     "output_type": "display_data"
    }
   ],
   "source": [
    "# Graficar\n",
    "fig = plt.figure()\n",
    "ax = fig.add_subplot()\n",
    "sns.scatterplot(x=X, y=y, label='datos', ax=ax)\n",
    "ax.legend()\n",
    "ax.grid('dashed')\n",
    "plt.show()"
   ]
  },
  {
   "cell_type": "markdown",
   "metadata": {
    "id": "hvgvzvw7_GMs"
   },
   "source": [
    "## 2 - Modelo Base (promediador)"
   ]
  },
  {
   "cell_type": "code",
   "execution_count": 5,
   "metadata": {
    "id": "XKqu7NLq_EB-"
   },
   "outputs": [],
   "source": [
    "# Creamos el modelo base\n",
    "class MeanBaseModel():\n",
    "    def __init__(self):\n",
    "        self.W = 0\n",
    "\n",
    "    def fit(self, X, y):\n",
    "        self.W = np.mean(y / X)\n",
    "\n",
    "    def predict(self, X):\n",
    "        return X * self.W"
   ]
  },
  {
   "cell_type": "code",
   "execution_count": 6,
   "metadata": {
    "colab": {
     "base_uri": "https://localhost:8080/",
     "height": 34
    },
    "executionInfo": {
     "elapsed": 1282,
     "status": "ok",
     "timestamp": 1603761822033,
     "user": {
      "displayName": "Hernán Contigiani",
      "photoUrl": "https://lh3.googleusercontent.com/a-/AOh14Ggvg04lTitIUU72BS6D299tXlZG8qalV594KkKRfg=s64",
      "userId": "01142101934719343059"
     },
     "user_tz": 180
    },
    "id": "H8uLRJnh_Mg8",
    "outputId": "76e119aa-2cef-46c2-e2a0-2c3f0e96da11"
   },
   "outputs": [
    {
     "name": "stdout",
     "output_type": "stream",
     "text": [
      "Pendiente (W1): 1.90\n"
     ]
    }
   ],
   "source": [
    "# Entrenar nuestro modelo base (un promediador)\n",
    "mean_model = MeanBaseModel()\n",
    "mean_model.fit(X, y)\n",
    "y_hat_base = mean_model.predict(X)\n",
    "print(f\"Pendiente (W1): {mean_model.W:.2f}\")"
   ]
  },
  {
   "cell_type": "code",
   "execution_count": 7,
   "metadata": {
    "colab": {
     "base_uri": "https://localhost:8080/",
     "height": 265
    },
    "executionInfo": {
     "elapsed": 1611,
     "status": "ok",
     "timestamp": 1603761822370,
     "user": {
      "displayName": "Hernán Contigiani",
      "photoUrl": "https://lh3.googleusercontent.com/a-/AOh14Ggvg04lTitIUU72BS6D299tXlZG8qalV594KkKRfg=s64",
      "userId": "01142101934719343059"
     },
     "user_tz": 180
    },
    "id": "cEXYPvCK_fiN",
    "outputId": "b5fc427a-9132-49e1-93b7-5812f319345c"
   },
   "outputs": [
    {
     "data": {
      "image/png": "[encoded data removed]",
      "text/plain": [
       "<Figure size 432x288 with 1 Axes>"
      ]
     },
     "metadata": {
      "needs_background": "light"
     },
     "output_type": "display_data"
    }
   ],
   "source": [
    "# Graficar\n",
    "m1 = mean_model.W\n",
    "b1 = 0\n",
    "lx1 = np.array([0, X.max()])\n",
    "ly1 = lx1 * m1 + b1\n",
    "\n",
    "fig = plt.figure()\n",
    "ax = fig.add_subplot()\n",
    "sns.scatterplot(x=X, y=y, label='datos', ax=ax)\n",
    "sns.lineplot(x=lx1, y=ly1, label='promediador', color='r', ax=ax)\n",
    "ax.legend()\n",
    "ax.grid('dashed')\n",
    "plt.show()"
   ]
  },
  {
   "cell_type": "markdown",
   "metadata": {
    "id": "d-GGzEPSAq0X"
   },
   "source": [
    "## 3 - Regresión lineal (y = m*x + b)"
   ]
  },
  {
   "cell_type": "code",
   "execution_count": 8,
   "metadata": {
    "colab": {
     "base_uri": "https://localhost:8080/",
     "height": 51
    },
    "executionInfo": {
     "elapsed": 1580,
     "status": "ok",
     "timestamp": 1603761882127,
     "user": {
      "displayName": "Hernán Contigiani",
      "photoUrl": "https://lh3.googleusercontent.com/a-/AOh14Ggvg04lTitIUU72BS6D299tXlZG8qalV594KkKRfg=s64",
      "userId": "01142101934719343059"
     },
     "user_tz": 180
    },
    "id": "ojm24yvGAm-V",
    "outputId": "ad346df0-9a3c-4ccf-a23b-018d69e11cf4"
   },
   "outputs": [
    {
     "name": "stdout",
     "output_type": "stream",
     "text": [
      "Pendiente (W1): 0.97\n",
      "Ordenada al origen (W0): 4.45\n"
     ]
    }
   ],
   "source": [
    "from sklearn.linear_model import LinearRegression\n",
    "# Regresión lineal\n",
    "lr = LinearRegression()\n",
    "lr.fit(X.reshape(-1, 1), y)\n",
    "y_hat= lr.predict(X.reshape(-1, 1))\n",
    "print(f\"Pendiente (W1): {lr.coef_[0]:.2f}\")\n",
    "print(f\"Ordenada al origen (W0): {lr.intercept_:.2f}\")"
   ]
  },
  {
   "cell_type": "code",
   "execution_count": 9,
   "metadata": {
    "colab": {
     "base_uri": "https://localhost:8080/",
     "height": 265
    },
    "executionInfo": {
     "elapsed": 2101,
     "status": "ok",
     "timestamp": 1603761822876,
     "user": {
      "displayName": "Hernán Contigiani",
      "photoUrl": "https://lh3.googleusercontent.com/a-/AOh14Ggvg04lTitIUU72BS6D299tXlZG8qalV594KkKRfg=s64",
      "userId": "01142101934719343059"
     },
     "user_tz": 180
    },
    "id": "Y71oXpX2Bbf8",
    "outputId": "9c78e597-1cb2-4ee4-e6f4-71a5a8bb3069"
   },
   "outputs": [
    {
     "data": {
      "image/png": "[encoded data removed]",
      "text/plain": [
       "<Figure size 432x288 with 1 Axes>"
      ]
     },
     "metadata": {
      "needs_background": "light"
     },
     "output_type": "display_data"
    }
   ],
   "source": [
    "# Graficar\n",
    "m1 = mean_model.W\n",
    "b1 = 0\n",
    "lx1 = np.array([0, X.max()])\n",
    "ly1 = lx1 * m1 + b1\n",
    "\n",
    "m2 = lr.coef_\n",
    "b2 = lr.intercept_\n",
    "lx2 = np.array([0, X.max()])\n",
    "ly2 = lx2 * m2 + b2\n",
    "\n",
    "fig = plt.figure()\n",
    "ax = fig.add_subplot()\n",
    "sns.scatterplot(x=X, y=y, label='datos', ax=ax)\n",
    "sns.lineplot(x=lx1, y=ly1, label='promediador', color='r', ax=ax)\n",
    "sns.lineplot(x=lx2, y=ly2, label='regresion', color='g', ax=ax)\n",
    "ax.legend()\n",
    "ax.grid('dashed')\n",
    "plt.show()"
   ]
  },
  {
   "cell_type": "markdown",
   "metadata": {
    "id": "GrT85LqaKj3c"
   },
   "source": [
    "## 4 - Métricas para la regresión"
   ]
  },
  {
   "cell_type": "code",
   "execution_count": 10,
   "metadata": {
    "colab": {
     "base_uri": "https://localhost:8080/",
     "height": 51
    },
    "executionInfo": {
     "elapsed": 2478,
     "status": "ok",
     "timestamp": 1603761823261,
     "user": {
      "displayName": "Hernán Contigiani",
      "photoUrl": "https://lh3.googleusercontent.com/a-/AOh14Ggvg04lTitIUU72BS6D299tXlZG8qalV594KkKRfg=s64",
      "userId": "01142101934719343059"
     },
     "user_tz": 180
    },
    "id": "JXUOSnbVKo2_",
    "outputId": "3923c702-58ce-43fb-b228-58c2faa0d9ea"
   },
   "outputs": [
    {
     "name": "stdout",
     "output_type": "stream",
     "text": [
      "Promediador: coeficiente de determinación: -0.86\n",
      "Regresión: coeficiente de deterinación: 0.91\n"
     ]
    }
   ],
   "source": [
    "from sklearn.metrics import r2_score\n",
    "lr_r2 = r2_score(y, y_hat)\n",
    "base_r2 = r2_score(y, y_hat_base)\n",
    "print(f\"Promediador: coeficiente de determinación: {base_r2:.2f}\")\n",
    "print(f\"Regresión: coeficiente de deterinación: {lr_r2:.2f}\")"
   ]
  },
  {
   "cell_type": "markdown",
   "metadata": {
    "id": "10ryShyuYXHD"
   },
   "source": [
    "## 5 - Regresión multilineal\n",
    "Ver el notebook de ejemplo correspondiente"
   ]
  },
  {
   "cell_type": "markdown",
   "metadata": {
    "id": "_e0LUY2fYcTf"
   },
   "source": [
    "## 6 - Regresión polinomial"
   ]
  },
  {
   "cell_type": "code",
   "execution_count": 11,
   "metadata": {
    "id": "FIDcW5Z1bb-I"
   },
   "outputs": [],
   "source": [
    "def true_fun(X):\n",
    "    return np.cos(1.5 * np.pi * X)"
   ]
  },
  {
   "cell_type": "code",
   "execution_count": 12,
   "metadata": {
    "id": "d6nWNp4AbXiS"
   },
   "outputs": [],
   "source": [
    "from sklearn.preprocessing import PolynomialFeatures\n",
    "\n",
    "np.random.seed(0)\n",
    "\n",
    "n_samples = 30\n",
    "degrees_to_plot = [1, 4, 15]\n",
    "\n",
    "X_train = np.sort(np.random.rand(n_samples))\n",
    "y_train = true_fun(X_train) + np.random.randn(n_samples) * 0.1\n",
    "\n",
    "X_test = np.linspace(0, 1, 100)\n",
    "y_test = true_fun(X_test)"
   ]
  },
  {
   "cell_type": "code",
   "execution_count": 13,
   "metadata": {
    "colab": {
     "base_uri": "https://localhost:8080/",
     "height": 348
    },
    "executionInfo": {
     "elapsed": 1001,
     "status": "ok",
     "timestamp": 1603761886129,
     "user": {
      "displayName": "Hernán Contigiani",
      "photoUrl": "https://lh3.googleusercontent.com/a-/AOh14Ggvg04lTitIUU72BS6D299tXlZG8qalV594KkKRfg=s64",
      "userId": "01142101934719343059"
     },
     "user_tz": 180
    },
    "id": "_Op_Wf_3bu_g",
    "outputId": "3fa3c0c4-ad72-41f2-db13-888ffab2317d"
   },
   "outputs": [
    {
     "data": {
      "image/png": "[encoded data removed]",
      "text/plain": [
       "<Figure size 1008x360 with 3 Axes>"
      ]
     },
     "metadata": {},
     "output_type": "display_data"
    }
   ],
   "source": [
    "from sklearn.metrics import mean_squared_error\n",
    "\n",
    "mse_train_list = []\n",
    "mse_test_list = []\n",
    "max_dregree = max(degrees_to_plot)\n",
    "\n",
    "plt.figure(figsize=(14, 5))\n",
    "for degree in range(1, (max_dregree+1)):\n",
    "\n",
    "    plot_number = 0\n",
    "    try:\n",
    "        plot_number = degrees_to_plot.index(degree) + 1\n",
    "    except:\n",
    "        plot_number = 0\n",
    "\n",
    "    if plot_number > 0:\n",
    "        ax = plt.subplot(1, len(degrees_to_plot), plot_number)\n",
    "        plt.setp(ax, xticks=(), yticks=())\n",
    "\n",
    "    polynomial_features = PolynomialFeatures()\n",
    "    poly = PolynomialFeatures(degree=degree)\n",
    "    \n",
    "    X_train_poly = poly.fit_transform(X_train.reshape(-1, 1))\n",
    "    X_test_poly = poly.fit_transform(X_test.reshape(-1, 1))\n",
    "\n",
    "    lr = LinearRegression()\n",
    "    lr.fit(X_train_poly, y_train)\n",
    "    y_hat = lr.predict(X_test_poly)\n",
    "    y_hat_train = lr.predict(X_train_poly)\n",
    "\n",
    "    mse = mean_squared_error(y_test, y_hat)\n",
    "    mse_train = mean_squared_error(y_train, y_hat_train)\n",
    "\n",
    "    mse_train_list.append(mse_train)\n",
    "    mse_test_list.append(mse)\n",
    "\n",
    "    if plot_number > 0:\n",
    "        plt.plot(X_test, y_hat, label=\"Modelo\")\n",
    "        plt.plot(X_test, y_test, label=\"Función real\")\n",
    "        plt.scatter(X_train, y_train, edgecolor='b', s=20, label=\"data\")\n",
    "        plt.xlabel(\"x\")\n",
    "        plt.ylabel(\"y\")\n",
    "        plt.xlim((0, 1))\n",
    "        plt.ylim((-2, 2))\n",
    "        plt.legend(loc=\"best\")\n",
    "        plt.title(\"Grado {}\\nMSE = {:.3f}\".format(degree, mse))\n",
    "\n",
    "plt.show()"
   ]
  },
  {
   "cell_type": "code",
   "execution_count": 14,
   "metadata": {
    "colab": {
     "base_uri": "https://localhost:8080/",
     "height": 312
    },
    "executionInfo": {
     "elapsed": 826,
     "status": "ok",
     "timestamp": 1603761891681,
     "user": {
      "displayName": "Hernán Contigiani",
      "photoUrl": "https://lh3.googleusercontent.com/a-/AOh14Ggvg04lTitIUU72BS6D299tXlZG8qalV594KkKRfg=s64",
      "userId": "01142101934719343059"
     },
     "user_tz": 180
    },
    "id": "fPbunNQShBdl",
    "outputId": "1bb93f4b-a399-47c2-8a37-08381d34e67f"
   },
   "outputs": [
    {
     "data": {
      "image/png": "[encoded data removed]",
      "text/plain": [
       "<Figure size 432x288 with 1 Axes>"
      ]
     },
     "metadata": {
      "needs_background": "light"
     },
     "output_type": "display_data"
    },
    {
     "name": "stdout",
     "output_type": "stream",
     "text": [
      "Nivel óptimo: 4\n"
     ]
    }
   ],
   "source": [
    "plt.plot(range(1, (max_dregree+1)), mse_train_list, c='g', label=\"train\")\n",
    "plt.plot(range(1, (max_dregree+1)), mse_test_list, c='b', label=\"test\")\n",
    "plt.xlabel(\"modelo\")\n",
    "plt.ylabel(\"Error\")\n",
    "plt.ylim((0, 0.1))\n",
    "plt.legend()\n",
    "plt.title(\"Nivel óptimo de complejidad del modelo\")\n",
    "plt.show()\n",
    "print('Nivel óptimo:', mse_test_list.index(min(mse_test_list))+1)"
   ]
  },
  {
   "cell_type": "markdown",
   "metadata": {
    "id": "p04gC6QL2Cn3"
   },
   "source": [
    "## 7 - Regresión con gradiente descendente"
   ]
  },
  {
   "cell_type": "code",
   "execution_count": 15,
   "metadata": {
    "colab": {
     "base_uri": "https://localhost:8080/",
     "height": 68
    },
    "executionInfo": {
     "elapsed": 740,
     "status": "ok",
     "timestamp": 1603761894451,
     "user": {
      "displayName": "Hernán Contigiani",
      "photoUrl": "https://lh3.googleusercontent.com/a-/AOh14Ggvg04lTitIUU72BS6D299tXlZG8qalV594KkKRfg=s64",
      "userId": "01142101934719343059"
     },
     "user_tz": 180
    },
    "id": "ecPSPpYT2GZD",
    "outputId": "d3130531-7a7c-4b69-e26a-0ab475699cd8"
   },
   "outputs": [
    {
     "name": "stdout",
     "output_type": "stream",
     "text": [
      "Pendiente (W1): 17.73\n",
      "Ordenada al origen (W0): [10.99957123]\n",
      "Ojo! Los coeficientes fueron afectados por la normalización, no es conveniente utilizarlos\n"
     ]
    }
   ],
   "source": [
    "from sklearn.preprocessing import MinMaxScaler\n",
    "from sklearn.linear_model import SGDRegressor\n",
    "scaler = MinMaxScaler()\n",
    "scaler.fit(X.reshape(-1, 1))\n",
    "X_norm = scaler.transform(X.reshape(-1, 1))\n",
    "\n",
    "reg = SGDRegressor(max_iter=1000, tol=0.01)\n",
    "reg.fit(X_norm, y)\n",
    "y_hat = reg.predict(X_norm)\n",
    "\n",
    "print(f\"Pendiente (W1): {reg.coef_[0]:.2f}\")\n",
    "print(f\"Ordenada al origen (W0):\", reg.intercept_)\n",
    "print(\"Ojo! Los coeficientes fueron afectados por la normalización, no es conveniente utilizarlos\")"
   ]
  },
  {
   "cell_type": "code",
   "execution_count": 16,
   "metadata": {
    "colab": {
     "base_uri": "https://localhost:8080/",
     "height": 265
    },
    "executionInfo": {
     "elapsed": 750,
     "status": "ok",
     "timestamp": 1603761897235,
     "user": {
      "displayName": "Hernán Contigiani",
      "photoUrl": "https://lh3.googleusercontent.com/a-/AOh14Ggvg04lTitIUU72BS6D299tXlZG8qalV594KkKRfg=s64",
      "userId": "01142101934719343059"
     },
     "user_tz": 180
    },
    "id": "oMtThoBo33BV",
    "outputId": "3b74dbcc-3f27-4768-b315-888123ac14a3"
   },
   "outputs": [
    {
     "data": {
      "image/png": "[encoded data removed]",
      "text/plain": [
       "<Figure size 432x288 with 1 Axes>"
      ]
     },
     "metadata": {
      "needs_background": "light"
     },
     "output_type": "display_data"
    }
   ],
   "source": [
    "lx3 = np.array([0, X.max()])\n",
    "lx3_norm = scaler.transform(lx3.reshape(-1, 1))\n",
    "ly3 = reg.predict(lx3_norm)\n",
    "\n",
    "fig = plt.figure()\n",
    "ax = fig.add_subplot()\n",
    "sns.scatterplot(x=X, y=y, label='datos', ax=ax)\n",
    "sns.scatterplot(x=X, y=y_hat, color='r', ax=ax)\n",
    "sns.lineplot(x=lx3, y=ly3, label='gradiente', color='r', ax=ax)\n",
    "ax.legend()\n",
    "ax.grid('dashed')\n",
    "plt.show()"
   ]
  },
  {
   "cell_type": "code",
   "execution_count": 17,
   "metadata": {
    "colab": {
     "base_uri": "https://localhost:8080/",
     "height": 34
    },
    "executionInfo": {
     "elapsed": 1018,
     "status": "ok",
     "timestamp": 1603761900424,
     "user": {
      "displayName": "Hernán Contigiani",
      "photoUrl": "https://lh3.googleusercontent.com/a-/AOh14Ggvg04lTitIUU72BS6D299tXlZG8qalV594KkKRfg=s64",
      "userId": "01142101934719343059"
     },
     "user_tz": 180
    },
    "id": "Pu81kTK268zw",
    "outputId": "0291ba1b-d89c-41ba-e59b-a1fbc1d46ae5"
   },
   "outputs": [
    {
     "name": "stdout",
     "output_type": "stream",
     "text": [
      "Gradiente: coeficiente de deterinación: 0.78\n"
     ]
    }
   ],
   "source": [
    "from sklearn.metrics import r2_score\n",
    "reg_r2 = r2_score(y, y_hat)\n",
    "print(f\"Gradiente: coeficiente de deterinación: {reg_r2:.2f}\")"
   ]
  }
 ],
 "metadata": {
  "colab": {
   "collapsed_sections": [],
   "name": "1_introduccion_regresion.ipynb",
   "provenance": [],
   "toc_visible": true
  },
  "kernelspec": {
   "display_name": "Python 3",
   "language": "python",
   "name": "python3"
  },
  "language_info": {
   "codemirror_mode": {
    "name": "ipython",
    "version": 3
   },
   "file_extension": ".py",
   "mimetype": "text/x-python",
   "name": "python",
   "nbconvert_exporter": "python",
   "pygments_lexer": "ipython3",
   "version": "3.9.4"
  }
 },
 "nbformat": 4,
 "nbformat_minor": 4
}
